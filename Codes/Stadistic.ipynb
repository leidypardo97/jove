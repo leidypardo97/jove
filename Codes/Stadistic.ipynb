{
 "metadata": {
  "name": ""
 },
 "nbformat": 3,
 "nbformat_minor": 0,
 "worksheets": [
  {
   "cells": [
    {
     "cell_type": "code",
     "collapsed": false,
     "input": [
      "import matplotlib.pyplot as plt\n",
      "import numpy as np\n",
      "import os\n",
      "import sys\n",
      "import string\n",
      "import logging\n",
      "from getpass import getuser\n",
      "import itertools"
     ],
     "language": "python",
     "metadata": {},
     "outputs": []
    },
    {
     "cell_type": "code",
     "collapsed": false,
     "input": [
      "### Inline ####\n",
      "it = raw_input(\"Do you want the graphics inline? (y/n) > \")\n",
      "if it==\"y\" or it==\"Y\":\n",
      "    %matplotlib inline\n",
      "elif it==\"n\" or it==\"N\":\n",
      "    pass\n",
      "else:\n",
      "    raise TypeError(\"%s is not an option. Call me back when you're more serious\"%it)"
     ],
     "language": "python",
     "metadata": {},
     "outputs": []
    },
    {
     "cell_type": "code",
     "collapsed": false,
     "input": [
      "### Logging ####\n",
      "logger = logging.getLogger(getuser())\n",
      "sh = logging.StreamHandler(stream=sys.stdout)\n",
      "fmt = logging.Formatter('[%(levelname)s]: %(message)s')\n",
      "\n",
      "sh.setFormatter(fmt)\n",
      "logger.handlers = [sh]\n",
      "logger.setLevel(logging.WARN)"
     ],
     "language": "python",
     "metadata": {},
     "outputs": []
    },
    {
     "cell_type": "code",
     "collapsed": false,
     "input": [
      "print (\"Hi, this is the program I designed to make all the stadistics referent to the data got by our\"\n",
      "       \" radiotelescopes. If you \\n find any problem just tell me :) \\n\")\n",
      "\n",
      "### The Directory Where the Data Will Be ####\n",
      "b = list(string.ascii_lowercase)\n",
      "r = []\n",
      "def justrandom():\n",
      "    for x in xrange(9):\n",
      "            yield np.random.randint(0, 26)\n",
      "for x in justrandom():\n",
      "    r.append(b[x])\n",
      "r = np.array(r)\n",
      "os.mkdir(r)  ##Clear the # When you want a real probe\n",
      "\n",
      "### Creating a directory where all will be ####\n",
      "\n",
      "print \"I created a directory called\",  \"\".join(r), \"found in the same directory where I am. \\n\"\n",
      "os.chdir(\"\".join(r))\n",
      "raw_input(\"Now put the data in the directory. When you finished just push enter\")\n",
      "m = os.listdir(os.getcwd())\n",
      "\n",
      "if len(m)!=0:\n",
      "    print (\"I found more than 1 document, look! %s . \\n\"%\"  \".join(m) +\n",
      "                   \"Maybe, if he wants, I will be able to plot 2 or more data in the same figure. Anyway, I can't :(\")\n",
      "    print \"Now, tell me, which one you want...\"\n",
      "    thats=0\n",
      "    for x in m:\n",
      "        print \"- \" + x + \" = \" + str(thats)\n",
      "        thats+=1\n",
      "        \n",
      "    w = int(raw_input(\"Insert the number that is equal to the document you want to analyze > \"))\n",
      "    \n",
      "    if w>len(m) or w<0:\n",
      "        raise TypeError(\"%i wasn't an option. Call me back when you're more serious\"%w)\n",
      "        print \"Bye!\"\n",
      "    elif w%1!=0:\n",
      "        raise TypeError(\"%i must not be a decimal. Call me back when you're more serious\"%w)\n",
      "        print \"Bye!\"\n",
      "    t = m[w]\n",
      "else:\n",
      "    t = m[0]\n",
      "deb = list(t)\n",
      "jew = list(\".txt\")\n",
      "count = -4\n",
      "for x in jew:\n",
      "    if x!=t[count]:\n",
      "        raise TypeError(\"%s is not a .txt file. Call me back when you're more serious\"%t)\n",
      "        print \"Bye!\"\n",
      "    count += 1"
     ],
     "language": "python",
     "metadata": {},
     "outputs": []
    },
    {
     "cell_type": "code",
     "collapsed": false,
     "input": [
      "mirai, sekai, varien = np.loadtxt(t, dtype=\"string\", unpack=True)\n",
      "sekai , varien = np.array([x.replace(\",\", \".\") for x in sekai]) , np.array([x.replace(\",\", \".\") for x in varien], dtype=\"float\")\n",
      "sekai = np.array([x.replace(\":\", \",\") for x in sekai])\n",
      "droptek = []\n",
      "for x in sekai:\n",
      "    droptek.append(x.split(\",\"))\n",
      "droptek = list(itertools.chain(*droptek))\n",
      "droptek = [float(x) for x in droptek]\n",
      "snowblind = []\n",
      "for x in xrange(0, len(droptek), 3):\n",
      "    snowblind.append(droptek[x]*3600+droptek[x+1]*60+droptek[x+2])\n",
      "snowblind = np.array(snowblind, dtype=\"float\")\n",
      "snowblind = np.array([x-snowblind[0] for x in snowblind])\n",
      "\n",
      "plt.figure(figsize=(20,20))\n",
      "gs = plt.GridSpec(3, 3)\n",
      "plt.subplot(gs[0,:])\n",
      "plt.plot(snowblind, varien)\n",
      "plt.title(\"Relation Between Time ($\\Delta t$) And Amperes ($A$)\", fontsize=28)\n",
      "plt.suptitle(mirai[0], fontsize=24)\n",
      "plt.xlabel(\"Time ($\\Delta t$)\", fontsize=24)\n",
      "plt.ylabel(\"Amperes ($A$)\", fontsize=24)\n",
      "\n",
      "plt.subplot(gs[2,:])\n",
      "plt.title(\"Histogram\", fontsize=28)\n",
      "plt.hist(varien, bins=200)\n",
      "if it==\"n\" or it==\"N\":\n",
      "    plt.show()\n",
      "mean = sum(varien)/len(varien)\n",
      "o = []\n",
      "for x in varien:\n",
      "    o.append((x-mean)**2)\n",
      "o = (sum(o)/(len(varien)-1))**.5\n",
      "print \"Your Mean is %f Amperes and your Mean Deviation is\" % mean, o\n",
      "print (\"You have to restart your kernel, because it is not going to work if you don't. If you are going to run only this cell\"\n",
      "       \" you don't need to restart it. See you!\")"
     ],
     "language": "python",
     "metadata": {},
     "outputs": []
    },
    {
     "cell_type": "heading",
     "level": 1,
     "metadata": {},
     "source": [
      "References"
     ]
    },
    {
     "cell_type": "heading",
     "level": 2,
     "metadata": {},
     "source": [
      "- https://github.com/alejandroc137/IntroduccionPythonKL"
     ]
    }
   ],
   "metadata": {}
  }
 ]
}