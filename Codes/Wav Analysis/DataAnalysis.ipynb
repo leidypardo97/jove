{
 "metadata": {
  "name": ""
 },
 "nbformat": 3,
 "nbformat_minor": 0,
 "worksheets": [
  {
   "cells": [
    {
     "cell_type": "heading",
     "level": 1,
     "metadata": {},
     "source": [
      "Data Analysis From .wav Files"
     ]
    },
    {
     "cell_type": "heading",
     "level": 2,
     "metadata": {},
     "source": [
      "1. Reading Wav"
     ]
    },
    {
     "cell_type": "code",
     "collapsed": false,
     "input": [
      "#import glob\n",
      "#import os\n",
      "import wave\n",
      "import contextlib\n",
      "import scipy\n",
      "from pylab import*\n",
      "#from getpass import getuser\n",
      "import numpy as np\n",
      "import math\n",
      "from scipy.io import wavfile\n",
      "import matplotlib.pyplot as plt\n",
      "from Tkinter import Tk\n",
      "from tkFileDialog import askopenfilename"
     ],
     "language": "python",
     "metadata": {},
     "outputs": []
    },
    {
     "cell_type": "code",
     "collapsed": false,
     "input": [
      "#List files in Directory - Non Graphic mode\n",
      "'''direct=os.chdir(\"/home/%s/jove/Sample Data\"%getuser())\n",
      "files=glob.glob('*.wav')\n",
      "num=0;\n",
      "for x in files:\n",
      "    print \"- %s = %i\"%(x, num)\n",
      "    num+=1\n",
      "\n",
      "var=input(\"Select File:\")\n",
      "\n",
      "#Select Files\n",
      "if var>(num-1) or var<0:\n",
      "    raise ValueError(\"No valid argument\")'''\n",
      "\n",
      "#Graphic Mode\n",
      "Tk().withdraw()\n",
      "fname = askopenfilename() # show an \"Open\" dialog box and return the path to the selected file\n",
      "print \"File Selected: \"+fname"
     ],
     "language": "python",
     "metadata": {},
     "outputs": []
    },
    {
     "cell_type": "code",
     "collapsed": false,
     "input": [
      "#fname=\"/home/edwmapa/jove/Sample Data/\"+files[var]\n",
      "#File Duration frames/rate\n",
      "with contextlib.closing(wave.open(fname,'r')) as f:\n",
      "    frames = f.getnframes()\n",
      "    rate = f.getframerate()\n",
      "    duration = frames / float(rate)\n",
      "    print \"File length: %f Sec.\"%duration"
     ],
     "language": "python",
     "metadata": {},
     "outputs": []
    },
    {
     "cell_type": "heading",
     "level": 2,
     "metadata": {},
     "source": [
      "2. Graph - Amplitude Vs. Time"
     ]
    },
    {
     "cell_type": "heading",
     "level": 3,
     "metadata": {},
     "source": [
      "2.1. Graph"
     ]
    },
    {
     "cell_type": "code",
     "collapsed": false,
     "input": [
      "#wavfile.read() returns rate and data in numpy array\n",
      "input_data=wavfile.read(fname)\n",
      "sampFreq, snd = input_data\n",
      "\n",
      "snd = snd / (2.**15)\n",
      "print \"This is the shape of the sound (sample points, chanels sound):\"\n",
      "print(snd.shape)\n",
      "\n",
      "#If the sound has more than one channel, only load first channel\n",
      "if len(snd.shape)!=1:\n",
      "    snd=snd[:,0]\n",
      "\n",
      "#Arange of ms\n",
      "samplePoints=snd.shape[0]\n",
      "timeArray = arange(0,float(snd.shape[0]), 1)\n",
      "timeArray = timeArray / sampFreq\n",
      "\n",
      "maxV=(np.amax(snd))+.05  #Max Value of snd\n",
      "minV=(np.amin(snd))-.05\n",
      "#yDuration\n",
      "yduration = np.array(duration)\n",
      "yduration = np.repeat(yduration,2)\n",
      "\n",
      "\n",
      "%matplotlib inline\n",
      "plt.figure(figsize=(20,10))\n",
      "plt.plot(timeArray,snd,'b',label=\"Signal\")\n",
      "plt.plot(yduration,np.linspace(minV,maxV, 2),\"r--\",label=\"Limit\") #Limit line\n",
      "plt.ylim(-maxV,maxV)\n",
      "plt.legend()\n",
      "plt.title(\"File: \"+fname)\n",
      "plt.ylabel('Amplitude')\n",
      "plt.xlabel('Time (sec.)')"
     ],
     "language": "python",
     "metadata": {},
     "outputs": []
    },
    {
     "cell_type": "heading",
     "level": 3,
     "metadata": {},
     "source": [
      "2.1. Histogram:"
     ]
    },
    {
     "cell_type": "code",
     "collapsed": false,
     "input": [
      "%matplotlib inline\n",
      "plt.figure(figsize=(20,10))\n",
      "plt.hist(snd, bins=200)\n",
      "xlabel('Amplitude')\n",
      "ylabel('Times Repeated')"
     ],
     "language": "python",
     "metadata": {},
     "outputs": []
    },
    {
     "cell_type": "heading",
     "level": 2,
     "metadata": {},
     "source": [
      "FFT"
     ]
    },
    {
     "cell_type": "markdown",
     "metadata": {},
     "source": [
      "The Fast Fourier Transform is a implementation to solve the Discrete Fourier transform.<br>\n",
      "<b>Discrete Fourier Transform:</b>\n",
      "\\begin{aligned}\n",
      "y[k] = \\sum_{n=0}^{N-1} e^{-2 \\pi j \\frac{k n}{N} } x[n] \\, ,\n",
      "\\end{aligned}\n",
      "\n",
      "\n"
     ]
    },
    {
     "cell_type": "code",
     "collapsed": false,
     "input": [
      "from scipy.io.wavfile import read\n",
      "from scipy.signal import hann\n",
      "from scipy.fftpack import rfft\n",
      "\n",
      "input_data1 =read(fname)\n",
      "audio1 = input_data1[1]\n",
      "\n",
      "#Hanning window \n",
      "window=hann(1024)\n",
      "audio1 = audio1[0:1024] * window\n",
      "\n",
      "#Fast Fourier Transform fft\n",
      "mags= abs(rfft(audio1))\n",
      "\n",
      "#dB values\n",
      "mags= 20 * scipy.log10(mags)\n",
      "#To 0 dB, set max mags to zero\n",
      "\n",
      "#mags -=max(mags)\n",
      "\n",
      "#plot\n",
      "%matplotlib inline\n",
      "plt.figure(figsize=(20,10))\n",
      "plt.plot(mags, label=\"Graph\")\n",
      "ylabel(\"Magnitude $(10\\log{\\frac{I}}{I_{0})$\", size =30)\n",
      "xlabel(\"Frequency Bin\", size=30)\n",
      "plt.legend()\n",
      "plt.title(\"Flute Spectrum\", size=30)"
     ],
     "language": "python",
     "metadata": {},
     "outputs": []
    },
    {
     "cell_type": "heading",
     "level": 6,
     "metadata": {
      "slideshow": {
       "slide_type": "notes"
      }
     },
     "source": [
      "<p>References:\n",
      "- http://lac.linuxaudio.org/2011/download/python_for_audio_signal_processing.pdf<br>\n",
      "-http://stackoverflow.com/questions/9690413/trying-to-use-fft-to-analyze-audio-signal-in-python<br>\n",
      "-http://samcarcagno.altervista.org/blog/basic-sound-processing-python/?doing_wp_cron=1411220939.3383259773254394531250<br></p>\n"
     ]
    },
    {
     "cell_type": "code",
     "collapsed": false,
     "input": [],
     "language": "python",
     "metadata": {},
     "outputs": []
    }
   ],
   "metadata": {}
  }
 ]
}