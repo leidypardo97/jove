{
 "metadata": {
  "name": ""
 },
 "nbformat": 3,
 "nbformat_minor": 0,
 "worksheets": [
  {
   "cells": [
    {
     "cell_type": "heading",
     "level": 1,
     "metadata": {},
     "source": [
      "Data Analysis From .wav Files"
     ]
    },
    {
     "cell_type": "code",
     "collapsed": false,
     "input": [
      "#import glob\n",
      "#import os\n",
      "import wave\n",
      "import contextlib\n",
      "from pylab import*\n",
      "#from getpass import getuser\n",
      "import numpy as np\n",
      "import math\n",
      "from scipy.io import wavfile\n",
      "import matplotlib.pyplot as plt"
     ],
     "language": "python",
     "metadata": {},
     "outputs": []
    },
    {
     "cell_type": "code",
     "collapsed": false,
     "input": [
      "#List files in Directory - Non Graphic mode\n",
      "'''direct=os.chdir(\"/home/%s/jove/Sample Data\"%getuser())\n",
      "files=glob.glob('*.wav')\n",
      "num=0;\n",
      "for x in files:\n",
      "    print \"- %s = %i\"%(x, num)\n",
      "    num+=1\n",
      "\n",
      "var=input(\"Select File:\")\n",
      "\n",
      "#Select Files\n",
      "if var>(num-1) or var<0:\n",
      "    raise ValueError(\"No valid argument\")'''\n",
      "\n",
      "#Graphic Mode\n",
      "from Tkinter import Tk\n",
      "from tkFileDialog import askopenfilename\n",
      "Tk().withdraw()\n",
      "fname = askopenfilename() # show an \"Open\" dialog box and return the path to the selected file\n",
      "print \"File Selected: \"+fname\n",
      "print \"Do not use files over 3 minutes, it overflows ipython\""
     ],
     "language": "python",
     "metadata": {},
     "outputs": []
    },
    {
     "cell_type": "code",
     "collapsed": false,
     "input": [
      "#fname=\"/home/edwmapa/jove/Sample Data/\"+files[var]\n",
      "#File Duration frames/rate\n",
      "with contextlib.closing(wave.open(fname,'r')) as f:\n",
      "    frames = f.getnframes()\n",
      "    rate = f.getframerate()\n",
      "    duration = frames / float(rate)\n",
      "    print \"File length: %f Sec.\"%duration"
     ],
     "language": "python",
     "metadata": {},
     "outputs": []
    },
    {
     "cell_type": "code",
     "collapsed": false,
     "input": [
      "#wavfile.read() returns rate and data in numpy array\n",
      "input_data=wavfile.read(fname)\n",
      "sampFreq, snd = input_data\n",
      "\n",
      "snd = snd / (2.**15)\n",
      "print \"This is the shape of the sound (sample points, chanels sound):\"\n",
      "print(snd.shape)\n",
      "\n",
      "#If the sound has more than one channel, only load first channel\n",
      "if len(snd.shape)!=1:\n",
      "    snd=snd[:,0]\n",
      "\n",
      "#Arange of ms\n",
      "samplePoints=snd.shape[0]\n",
      "timeArray = arange(0,float(snd.shape[0]), 1)\n",
      "timeArray = timeArray / sampFreq\n",
      "timeArray = timeArray * 1000  #scale to milliseconds\n",
      "\n",
      "plt.plot(timeArray,snd,'k')\n",
      "plt.title(\"File: \"+fname)\n",
      "ylabel('Amplitude')\n",
      "xlabel('Time (ms)')\n",
      "plt.show()"
     ],
     "language": "python",
     "metadata": {},
     "outputs": []
    },
    {
     "cell_type": "heading",
     "level": 2,
     "metadata": {},
     "source": [
      "Fast Fourier Transform FFT:"
     ]
    },
    {
     "cell_type": "code",
     "collapsed": false,
     "input": [
      "fs, frames = wavfile.read(fname)\n",
      "\n",
      "channels = [\n",
      "    np.array(frames[:, 0]),\n",
      "]\n",
      "\n",
      "# generate specgram\n",
      "Pxx, freqs, t, plot = pylab.specgram(\n",
      "    channels[0],\n",
      "    NFFT=4096, \n",
      "    Fs=44100, \n",
      "    detrend=pylab.detrend_none,\n",
      "    window=pylab.window_hanning,\n",
      "    noverlap=int(4096 * 0.5))"
     ],
     "language": "python",
     "metadata": {},
     "outputs": []
    },
    {
     "cell_type": "heading",
     "level": 6,
     "metadata": {
      "slideshow": {
       "slide_type": "notes"
      }
     },
     "source": [
      "<p>References:\n",
      "- http://lac.linuxaudio.org/2011/download/python_for_audio_signal_processing.pdf<br>\n",
      "-http://stackoverflow.com/questions/9690413/trying-to-use-fft-to-analyze-audio-signal-in-python<br>\n",
      "-http://samcarcagno.altervista.org/blog/basic-sound-processing-python/?doing_wp_cron=1411220939.3383259773254394531250<br></p>\n"
     ]
    },
    {
     "cell_type": "heading",
     "level": 2,
     "metadata": {},
     "source": []
    }
   ],
   "metadata": {}
  }
 ]
}